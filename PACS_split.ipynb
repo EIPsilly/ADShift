{
 "cells": [
  {
   "cell_type": "code",
   "execution_count": 16,
   "metadata": {},
   "outputs": [],
   "source": [
    "import os\n",
    "import shutil\n",
    "import random"
   ]
  },
  {
   "cell_type": "code",
   "execution_count": 39,
   "metadata": {},
   "outputs": [
    {
     "name": "stdout",
     "output_type": "stream",
     "text": [
      "cartoon\n",
      "person\n",
      "horse\n",
      "elephant\n",
      "dog\n",
      "giraffe\n",
      "guitar\n",
      "house\n",
      "photo\n",
      "person\n",
      "horse\n",
      "elephant\n",
      "dog\n",
      "giraffe\n",
      "guitar\n",
      "house\n",
      "art_painting\n",
      "person\n",
      "horse\n",
      "elephant\n",
      "dog\n",
      "giraffe\n",
      "guitar\n",
      "house\n",
      "sketch\n",
      "person\n",
      "horse\n",
      "elephant\n",
      "dog\n",
      "giraffe\n",
      "guitar\n",
      "house\n"
     ]
    }
   ],
   "source": [
    "for style in os.listdir(\"./data/pacs_data\"):\n",
    "    print(style)\n",
    "    path1 = f\"./data/pacs_data/{style}\"\n",
    "    for label in os.listdir(path1):\n",
    "        print(label)\n",
    "        src_path = f\"./data/pacs_data/{style}/{label}/\"\n",
    "        src_path\n",
    "\n",
    "        file_list = os.listdir(src_path)\n",
    "        random.seed(42)\n",
    "        test_list = random.sample(file_list, int(len(file_list) * 0.2))\n",
    "        train_list = [item for item in file_list if item not in test_list]\n",
    "\n",
    "        tar_path = f\"./data/PACS/train/{style}/\"\n",
    "        if not os.path.exists(tar_path):\n",
    "            os.mkdir(tar_path)\n",
    "\n",
    "        tar_path += f'{label}/'\n",
    "        if not os.path.exists(tar_path):\n",
    "            os.mkdir(tar_path)\n",
    "\n",
    "        for file in train_list:\n",
    "            shutil.copy(src_path + file, tar_path + file)\n",
    "\n",
    "        tar_path = f\"./data/PACS/test/{style}/\"\n",
    "        if not os.path.exists(tar_path):\n",
    "            os.mkdir(tar_path)\n",
    "\n",
    "        tar_path += f'{label}/'\n",
    "        if not os.path.exists(tar_path):\n",
    "            os.mkdir(tar_path)\n",
    "\n",
    "        for file in test_list:\n",
    "            shutil.copy(src_path + file, tar_path + file)"
   ]
  }
 ],
 "metadata": {
  "kernelspec": {
   "display_name": "sklearn",
   "language": "python",
   "name": "python3"
  },
  "language_info": {
   "codemirror_mode": {
    "name": "ipython",
    "version": 3
   },
   "file_extension": ".py",
   "mimetype": "text/x-python",
   "name": "python",
   "nbconvert_exporter": "python",
   "pygments_lexer": "ipython3",
   "version": "3.9.16"
  }
 },
 "nbformat": 4,
 "nbformat_minor": 2
}
